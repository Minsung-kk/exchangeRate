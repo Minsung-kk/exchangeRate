{
 "cells": [
  {
   "cell_type": "code",
   "execution_count": 95,
   "metadata": {},
   "outputs": [],
   "source": [
    "# import libraries \n",
    "import numpy as np\n",
    "import scipy\n",
    "import matplotlib.pyplot as plt\n",
    "import seaborn as sns\n",
    "import pandas as pd\n",
    "from sklearn.model_selection import train_test_split\n",
    "from sklearn.linear_model import LinearRegression"
   ]
  },
  {
   "cell_type": "code",
   "execution_count": 178,
   "metadata": {
    "scrolled": true
   },
   "outputs": [
    {
     "data": {
      "text/html": [
       "<div>\n",
       "<style scoped>\n",
       "    .dataframe tbody tr th:only-of-type {\n",
       "        vertical-align: middle;\n",
       "    }\n",
       "\n",
       "    .dataframe tbody tr th {\n",
       "        vertical-align: top;\n",
       "    }\n",
       "\n",
       "    .dataframe thead th {\n",
       "        text-align: right;\n",
       "    }\n",
       "</style>\n",
       "<table border=\"1\" class=\"dataframe\">\n",
       "  <thead>\n",
       "    <tr style=\"text-align: right;\">\n",
       "      <th></th>\n",
       "      <th>TIME</th>\n",
       "      <th>GBR</th>\n",
       "      <th>KOR</th>\n",
       "      <th>GBR-KOR</th>\n",
       "      <th>KOR-GBR</th>\n",
       "      <th>month</th>\n",
       "      <th>year</th>\n",
       "      <th>year_month</th>\n",
       "    </tr>\n",
       "  </thead>\n",
       "  <tbody>\n",
       "    <tr>\n",
       "      <th>0</th>\n",
       "      <td>2007-01-01</td>\n",
       "      <td>4.8694</td>\n",
       "      <td>5.04</td>\n",
       "      <td>-0.1706</td>\n",
       "      <td>0.1706</td>\n",
       "      <td>1</td>\n",
       "      <td>2007</td>\n",
       "      <td>2007-01</td>\n",
       "    </tr>\n",
       "    <tr>\n",
       "      <th>1</th>\n",
       "      <td>2007-02-01</td>\n",
       "      <td>4.8960</td>\n",
       "      <td>5.01</td>\n",
       "      <td>-0.1140</td>\n",
       "      <td>0.1140</td>\n",
       "      <td>2</td>\n",
       "      <td>2007</td>\n",
       "      <td>2007-02</td>\n",
       "    </tr>\n",
       "    <tr>\n",
       "      <th>2</th>\n",
       "      <td>2007-03-01</td>\n",
       "      <td>4.8194</td>\n",
       "      <td>4.94</td>\n",
       "      <td>-0.1206</td>\n",
       "      <td>0.1206</td>\n",
       "      <td>3</td>\n",
       "      <td>2007</td>\n",
       "      <td>2007-03</td>\n",
       "    </tr>\n",
       "    <tr>\n",
       "      <th>3</th>\n",
       "      <td>2007-04-01</td>\n",
       "      <td>5.0439</td>\n",
       "      <td>5.07</td>\n",
       "      <td>-0.0261</td>\n",
       "      <td>0.0261</td>\n",
       "      <td>4</td>\n",
       "      <td>2007</td>\n",
       "      <td>2007-04</td>\n",
       "    </tr>\n",
       "    <tr>\n",
       "      <th>4</th>\n",
       "      <td>2007-05-01</td>\n",
       "      <td>5.1458</td>\n",
       "      <td>5.22</td>\n",
       "      <td>-0.0742</td>\n",
       "      <td>0.0742</td>\n",
       "      <td>5</td>\n",
       "      <td>2007</td>\n",
       "      <td>2007-05</td>\n",
       "    </tr>\n",
       "  </tbody>\n",
       "</table>\n",
       "</div>"
      ],
      "text/plain": [
       "        TIME     GBR   KOR  GBR-KOR  KOR-GBR  month  year year_month\n",
       "0 2007-01-01  4.8694  5.04  -0.1706   0.1706      1  2007    2007-01\n",
       "1 2007-02-01  4.8960  5.01  -0.1140   0.1140      2  2007    2007-02\n",
       "2 2007-03-01  4.8194  4.94  -0.1206   0.1206      3  2007    2007-03\n",
       "3 2007-04-01  5.0439  5.07  -0.0261   0.0261      4  2007    2007-04\n",
       "4 2007-05-01  5.1458  5.22  -0.0742   0.0742      5  2007    2007-05"
      ]
     },
     "execution_count": 178,
     "metadata": {},
     "output_type": "execute_result"
    }
   ],
   "source": [
    "# load file for long carry\n",
    "path_long = './data/long_interest.csv'\n",
    "data_long = pd.read_csv(path_long)\n",
    "# convert data type to numeric\n",
    "data_long['TIME'] = pd.to_datetime(data_long['TIME'])\n",
    "data_long['month'] = data_long['TIME'].dt.month\n",
    "data_long['year'] = data_long['TIME'].dt.year\n",
    "data_long['year_month'] = data_long['TIME'].dt.to_period('M')\n",
    "data_long.head()"
   ]
  },
  {
   "cell_type": "code",
   "execution_count": 179,
   "metadata": {},
   "outputs": [
    {
     "data": {
      "text/html": [
       "<div>\n",
       "<style scoped>\n",
       "    .dataframe tbody tr th:only-of-type {\n",
       "        vertical-align: middle;\n",
       "    }\n",
       "\n",
       "    .dataframe tbody tr th {\n",
       "        vertical-align: top;\n",
       "    }\n",
       "\n",
       "    .dataframe thead th {\n",
       "        text-align: right;\n",
       "    }\n",
       "</style>\n",
       "<table border=\"1\" class=\"dataframe\">\n",
       "  <thead>\n",
       "    <tr style=\"text-align: right;\">\n",
       "      <th></th>\n",
       "      <th>year_month</th>\n",
       "      <th>GBP-KRW</th>\n",
       "    </tr>\n",
       "  </thead>\n",
       "  <tbody>\n",
       "    <tr>\n",
       "      <th>0</th>\n",
       "      <td>1999-01</td>\n",
       "      <td>1939.199311</td>\n",
       "    </tr>\n",
       "    <tr>\n",
       "      <th>1</th>\n",
       "      <td>1999-02</td>\n",
       "      <td>1934.371996</td>\n",
       "    </tr>\n",
       "    <tr>\n",
       "      <th>2</th>\n",
       "      <td>1999-03</td>\n",
       "      <td>1991.579223</td>\n",
       "    </tr>\n",
       "    <tr>\n",
       "      <th>3</th>\n",
       "      <td>1999-04</td>\n",
       "      <td>1944.965093</td>\n",
       "    </tr>\n",
       "    <tr>\n",
       "      <th>4</th>\n",
       "      <td>1999-05</td>\n",
       "      <td>1931.270890</td>\n",
       "    </tr>\n",
       "  </tbody>\n",
       "</table>\n",
       "</div>"
      ],
      "text/plain": [
       "  year_month      GBP-KRW\n",
       "0    1999-01  1939.199311\n",
       "1    1999-02  1934.371996\n",
       "2    1999-03  1991.579223\n",
       "3    1999-04  1944.965093\n",
       "4    1999-05  1931.270890"
      ]
     },
     "execution_count": 179,
     "metadata": {},
     "output_type": "execute_result"
    }
   ],
   "source": [
    "# load file for exchange rate\n",
    "path_exr = './data/2020_1999.csv'\n",
    "data_exr = pd.read_csv(path_exr)\n",
    "# remove ',' to convert the data type 'object' to 'numeric'\n",
    "data_exr['KRW'] = data_exr['KRW'].replace({',':''}, regex = True)\n",
    "# convert data type to numeric\n",
    "for col in data_exr.columns[1:]:\n",
    "    data_exr[col] = pd.to_numeric(data_exr[col], errors='coerce')\n",
    "\n",
    "# create new columns; month, year, and year_month\n",
    "data_exr['Date'] = pd.to_datetime(data_exr['Date'])\n",
    "data_exr['month'] = data_exr['Date'].dt.month\n",
    "data_exr['year'] = data_exr['Date'].dt.year\n",
    "data_exr['year_month'] = data_exr['Date'].dt.to_period('M')\n",
    "\n",
    "# create new data which contains year_month and mean of GBP-KRW for that month\n",
    "data_exr_r = data_exr.groupby('year_month').KRW.mean().reset_index()\n",
    "data_exr_r.rename(columns={'KRW':'GBP-KRW'}, inplace=True)\n",
    "data_exr_r.head()\n",
    "# data_exr_r.dtypes\n",
    "\n"
   ]
  },
  {
   "cell_type": "code",
   "execution_count": 180,
   "metadata": {},
   "outputs": [
    {
     "data": {
      "text/plain": [
       "array([[1.    , 0.1706],\n",
       "       [1.    , 0.114 ],\n",
       "       [1.    , 0.1206],\n",
       "       [1.    , 0.0261],\n",
       "       [1.    , 0.0742]])"
      ]
     },
     "execution_count": 180,
     "metadata": {},
     "output_type": "execute_result"
    }
   ],
   "source": [
    "# input\n",
    "x = data_long['GBR-KOR'].values.reshape(-1,1)\n",
    "# x = data_long['KOR-GBR'].values.reshape(-1,1)\n",
    "pi = np.c_[np.ones(x.size), x]\n",
    "pi[:5]"
   ]
  },
  {
   "cell_type": "code",
   "execution_count": 181,
   "metadata": {},
   "outputs": [],
   "source": [
    "# intialize numpy array\n",
    "y = np.zeros(data_long['year_month'].size)\n",
    "# get the size of long carry data to match the size to the size of exchange rate\n",
    "size = data_long['year_month'].size\n",
    "# find the index of the start date\n",
    "idx = np.where(data_long['year_month'][0] == data_exr_r['year_month'])[0][0]\n",
    "# get exchange rates matching to the long carry data\n",
    "y = data_exr_r['GBP-KRW'].values[idx:idx+size]"
   ]
  },
  {
   "cell_type": "code",
   "execution_count": 185,
   "metadata": {},
   "outputs": [
    {
     "data": {
      "text/plain": [
       "array(['2007-06', '2007-12', '2008-03', '2008-05', '2008-08', '2009-06',\n",
       "       '2009-08', '2009-10', '2009-12', '2010-04', '2010-05', '2010-07',\n",
       "       '2010-09', '2010-12', '2011-04', '2011-06', '2011-07', '2012-07',\n",
       "       '2012-10', '2013-04', '2013-07', '2014-01', '2014-05', '2014-06',\n",
       "       '2014-09', '2014-11', '2014-12', '2015-04', '2015-08', '2015-10',\n",
       "       '2015-12', '2016-03', '2016-07', '2017-01', '2017-04', '2017-11',\n",
       "       '2018-12', '2019-04', '2019-05', '2019-07', '2019-08', '2020-09'],\n",
       "      dtype='<U7')"
      ]
     },
     "execution_count": 185,
     "metadata": {},
     "output_type": "execute_result"
    }
   ],
   "source": [
    "# separate data into training set and testing set\n",
    "X_train, X_test, y_train, y_test = train_test_split(pi, y, \n",
    "                                                    train_size=0.75,  test_size=0.25, random_state=1)\n",
    "# linear regression model\n",
    "fitted = LinearRegression(fit_intercept=False).fit(X_train, y_train)\n",
    "y_predict = fitted.predict(X_test)\n",
    "\n",
    "# find year_month\n",
    "idx = np.zeros(X_test[:,1].size)\n",
    "count = 0;\n",
    "for i in X_test[:,1]:\n",
    "    idx[count] = np.where(data_long['GBR-KOR'] == i)[0]\n",
    "#     idx[count] = np.where(data_long['KOR-GBR'] == i)[0]\n",
    "    count = count + 1\n",
    "# sort X_test and y_test for plot\n",
    "s = idx.argsort()\n",
    "X_test = X_test[s]\n",
    "y_test = y_test[s]\n",
    "y_predict = y_predict[s]\n",
    "idx = idx[s]\n",
    "idx = idx.astype(int)\n",
    "\n",
    "ym = data_long['year_month'].values[idx]\n",
    "ym = ym.astype(str)\n",
    "ym"
   ]
  },
  {
   "cell_type": "code",
   "execution_count": 186,
   "metadata": {},
   "outputs": [
    {
     "data": {
      "image/png": "[encoded data removed]",
      "text/plain": [
       "<Figure size 432x288 with 1 Axes>"
      ]
     },
     "metadata": {
      "needs_background": "light"
     },
     "output_type": "display_data"
    }
   ],
   "source": [
    "# scatter\n",
    "plt.scatter(ym, y_test,  color='black')\n",
    "# plt.scatter(X_test[:,1], prediction,  color='red')\n",
    "plt.plot(ym, y_predict, color='blue', linewidth=3)\n",
    "plt.title(\"Linear Regression\", fontsize=15)\n",
    "plt.ylabel(\"GBP-KRW\", fontsize = 12, rotation = 90)\n",
    "plt.xlabel(\"Long Carry\", fontsize = 12)\n",
    "plt.show()"
   ]
  },
  {
   "cell_type": "code",
   "execution_count": 188,
   "metadata": {},
   "outputs": [
    {
     "data": {
      "image/png": "[encoded data removed]",
      "text/plain": [
       "<Figure size 432x288 with 1 Axes>"
      ]
     },
     "metadata": {
      "needs_background": "light"
     },
     "output_type": "display_data"
    }
   ],
   "source": [
    "# no split\n",
    "fitted_ns = LinearRegression(fit_intercept=False).fit(pi, y)\n",
    "y_predict_ns = fitted.predict(pi)\n",
    "ym_ns = data_long['year_month'].astype(str)\n",
    "plt.scatter(ym_ns, y,  color='black')\n",
    "# plt.scatter(X_test[:,1], prediction,  color='red')\n",
    "plt.plot(ym_ns, y_predict_ns, color='blue', linewidth=3)\n",
    "plt.title(\"Linear Regression\", fontsize=15)\n",
    "plt.ylabel(\"GBP-KRW\", fontsize = 12, rotation = 90)\n",
    "plt.xlabel(\"Long Carry\", fontsize = 12)\n",
    "plt.show()\n"
   ]
  },
  {
   "cell_type": "code",
   "execution_count": null,
   "metadata": {},
   "outputs": [],
   "source": []
  }
 ],
 "metadata": {
  "kernelspec": {
   "display_name": "Python 3",
   "language": "python",
   "name": "python3"
  },
  "language_info": {
   "codemirror_mode": {
    "name": "ipython",
    "version": 3
   },
   "file_extension": ".py",
   "mimetype": "text/x-python",
   "name": "python",
   "nbconvert_exporter": "python",
   "pygments_lexer": "ipython3",
   "version": "3.7.9"
  }
 },
 "nbformat": 4,
 "nbformat_minor": 4
}
